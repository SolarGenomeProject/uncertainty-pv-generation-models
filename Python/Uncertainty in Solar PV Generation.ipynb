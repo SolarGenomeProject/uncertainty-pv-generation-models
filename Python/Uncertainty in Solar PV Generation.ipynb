{
 "cells": [
  {
   "cell_type": "markdown",
   "metadata": {},
   "source": [
    "<h1 align='center'> Uncertainty in Solar Energy Generation</h1>"
   ]
  },
  {
   "cell_type": "markdown",
   "metadata": {},
   "source": [
    "Paulo Soares November 16, 2020 <br> Penn State University <br> Coded in Python 3.7.9 using Jupyter Notebook"
   ]
  },
  {
   "cell_type": "markdown",
   "metadata": {},
   "source": [
    "### 0. Disclaimer\n",
    "\n",
    "This notebook illustrates the value of incorporating measured solar irradiance data, sourced from accurate radiometric station, to provide uncertainty analysis in solar photovoltaic (PV) generation models. Most of the PV design tools rely on TMY data (short for typical meteorological year) which is not designed with the solar energy applications in mind (it shows a typical <b>meteorological</b> year and not a typical <b>solar</b> year. Or, as Frank Vignola (2012) puts it:\n",
    "\n",
    "<i>\"To develop a sound, bankable dataset, it is important to understand resource variability and the nature of uncertainties in the various constituents of the data ...  TMY files may be suitable for initial evaluations, they generally do not constitute a bankable dataset.\"</i> Moreover, <i>\"...if the TMY file is used to estimate the performance of a solar system, comparisons between the long-term dataset and the TMY averages should be carried out. This is especially true for TMY3 data files created from just 11 years of data.\"</i>\n",
    "    \n",
    "Vignola, Frank E., Andrew C. McMahan, and Catherine N. Grover. \"Bankable solar-radiation datasets.\" Solar Energy Forecasting and Resources Assessment (2013).    \n",
    "\n",
    "####  IF YOU ARE RUNNING THIS THROUGH THE WEB (USING BINDER) READ BELOW!  \n",
    "\n",
    "<li> 1) Do not download files from NOAA </li>\n",
    "<li> 2) When prompted to insert a start and end year, use 2015 and 2019 </li>\n",
    "<li><b> 3) Load the data set at the end of section 4</b> </li>"
   ]
  },
  {
   "cell_type": "markdown",
   "metadata": {},
   "source": [
    "### 1. Python Packages\n",
    "\n",
    "Here I'm calling the required packages to make this code run. "
   ]
  },
  {
   "cell_type": "code",
   "execution_count": 1,
   "metadata": {},
   "outputs": [],
   "source": [
    "# Required packages to run the Analysis\n",
    "import numpy as np\n",
    "import pandas as pd\n",
    "import matplotlib.pyplot as plt\n",
    "import seaborn as sns\n",
    "from datetime import datetime, date, time\n",
    "import pytz\n",
    "import pvlib\n",
    "import glob\n",
    "from ftplib import FTP\n",
    "import os, sys, os.path"
   ]
  },
  {
   "cell_type": "code",
   "execution_count": 2,
   "metadata": {},
   "outputs": [],
   "source": [
    "## Here we're adjusting how we want our graphics to be displayed ##\n",
    "#\n",
    "#Matplotlib options\n",
    "from matplotlib.dates import DateFormatter\n",
    "plt.rcParams['figure.figsize'] = [12.0, 5.0]\n",
    "plt.rcParams['figure.dpi'] = 100\n",
    "plt.rcParams['savefig.dpi'] = 300\n",
    "plt.rcParams['font.size'] = 20\n",
    "plt.rcParams['legend.fontsize'] = 'small'\n",
    "plt.rcParams['figure.titlesize'] = 'large'"
   ]
  },
  {
   "cell_type": "markdown",
   "metadata": {},
   "source": [
    "### 2. Download data from NOAA FTP Server"
   ]
  },
  {
   "cell_type": "markdown",
   "metadata": {},
   "source": [
    "For measuring the uncertainty in the solar PV generation modeling we need reliable solar irradiance data preferably sourced from a radiometric station located close to the site being modeled. <br>\n",
    "\n",
    "In this example we will be collecting and using data from the NOAA SURFRAD station in State College, PA. <br>\n",
    "\n",
    "<i>\"...the Surface Radiation Budget Network (SURFRAD) was established in 1993 through the support of NOAA's Office of Global Programs. The SURFRAD mission is clear; its primary objective is to support climate research with accurate, continuous, long-term measurements of the surface radiation budget over the United States.\" </i>\n",
    "\n",
    "Visit: https://www.esrl.noaa.gov/gmd/grad/surfrad/overview.html\n",
    "\n",
    "<ui>Here we have:\n",
    "<li> 5 years of data </li>\n",
    "<li> Data sampled every minute  </li>\n",
    "<li> Data include the global horizontal irradiance (GHI), diffuse horizontal irradiance (DHI), direct normal irradiance (DNI), air temperature, and ambient pressure </li>\n",
    "    <li> <b>IF USING BINDER: The data was averaged to 10 min to save storage and computational time</b></li>   \n",
    "</ui>\n"
   ]
  },
  {
   "cell_type": "code",
   "execution_count": 3,
   "metadata": {},
   "outputs": [
    {
     "name": "stdin",
     "output_type": "stream",
     "text": [
      "Type the first year of the data series (in YYYY):  2015\n",
      "Type the last year of the data series (in YYYY):  2019\n",
      "Type 1 to download data from NOAA server or 0 to skip:  0\n"
     ]
    },
    {
     "name": "stdout",
     "output_type": "stream",
     "text": [
      "Download Skipped. Proceed to the next cell.\n"
     ]
    }
   ],
   "source": [
    "#Defining the range of data to be downloaded\n",
    "\n",
    "first_year = input(\"Type the first year of the data series (in YYYY): \")\n",
    "first_year = int(first_year)\n",
    "last_year = input(\"Type the last year of the data series (in YYYY): \")\n",
    "last_year = int(last_year)\n",
    "last_year = last_year+1\n",
    "years = np.arange(first_year,last_year,1).astype(str)\n",
    "\n",
    "#Download data from NOAA's FTP server - Or not\n",
    "download = input(\"Type 1 to download data from NOAA server or 0 to skip: \")\n",
    "download = int(download)\n",
    "if download != 0:\n",
    "    \n",
    "    for year in years:\n",
    "        ftp = FTP('aftp.cmdl.noaa.gov') # get filenames within the directory\n",
    "\n",
    "        ftp.login()\n",
    "\n",
    "        ftp.cwd('data/radiation/surfrad/Penn_State_PA/'+year+'/')\n",
    "        filenames = ftp.nlst() \n",
    "\n",
    "    #print(filenames)\n",
    "\n",
    "    for filename in filenames:\n",
    "        local_filename = os.path.join('../Data/NOAA/', filename)\n",
    "        file = open(local_filename, 'wb')\n",
    "        ftp.retrbinary('RETR '+ filename, file.write)\n",
    "\n",
    "        file.close()\n",
    "\n",
    "    ftp.quit() # This is the “polite” way to close a connection\n",
    "    \n",
    "    #Concatenating data into a Single File\n",
    "    interesting_files = glob.glob('../Data/NOAA/*.dat') \n",
    "    #print(interesting_files)\n",
    "    df_list = []\n",
    "    for filename in sorted(interesting_files):\n",
    "        df_list.append(pd.read_csv(filename,skiprows=2,delim_whitespace=True, header=None))\n",
    "    full_df = pd.concat(df_list)\n",
    "    #Save raw data\n",
    "    full_df.to_csv('../Data/NOAA/output-full_raw_'+year+'.csv')\n",
    "    \n",
    "    #Removing Original Files\n",
    "    for f in interesting_files:\n",
    "        os.remove(f)    \n",
    "    \n",
    "    print(\"Donwload finished. Proceed to the next cell.\")\n",
    "    \n",
    "else:\n",
    "    print(\"Download Skipped. Proceed to the next cell.\")"
   ]
  },
  {
   "cell_type": "markdown",
   "metadata": {},
   "source": [
    "### 3. Create a Single Data File"
   ]
  },
  {
   "cell_type": "code",
   "execution_count": 5,
   "metadata": {},
   "outputs": [
    {
     "name": "stdin",
     "output_type": "stream",
     "text": [
      "Are you working online? (Y/N): \" y\n"
     ]
    },
    {
     "name": "stdout",
     "output_type": "stream",
     "text": [
      "SKIP to the end of section 4.\n"
     ]
    }
   ],
   "source": [
    "#Concatenating the DataFrames into a single DF\n",
    "\n",
    "online = input('Are you working online? (Y/N): \"')\n",
    "\n",
    "if online == 'N' or online == 'n':\n",
    "    data = pd.DataFrame()\n",
    "    headers = np.arange(0,48,1)\n",
    "\n",
    "    for year in years:\n",
    "        dat = pd.read_csv('../Data/NOAA/output-full_raw_'+year+'.csv', sep=',', skiprows=0, header = 0, names = headers, index_col=0)\n",
    "        data = data.append(dat)\n",
    "else:\n",
    "    print(\"SKIP to the end of section 4.\")\n",
    "    "
   ]
  },
  {
   "cell_type": "code",
   "execution_count": null,
   "metadata": {},
   "outputs": [],
   "source": [
    "#Saving the raw data - if desired\n",
    "saved = input(\"Do you want to save the raw data file? (Y/N): \")\n",
    "\n",
    "if saved == 'Y' or saved == 'y':\n",
    "    data.to_csv('../Data/NOAA/output_'+years[0]+'_to_'+years[-1]+'_raw.csv')\n",
    "else:\n",
    "    print(\"No action taken. Proceed to the next cell.\")"
   ]
  },
  {
   "cell_type": "markdown",
   "metadata": {},
   "source": [
    "### 4. Extracting Interesting Data\n",
    "For more information on how to read NOAA SURFRAD data files, please  download this document from the NOAA server:</p>\n",
    "ftp://aftp.cmdl.noaa.gov/data/radiation/surfrad/Penn_State_PA/READMEftp://aftp.cmdl.noaa.gov/data/radiation/surfrad/Penn_State_PA/README "
   ]
  },
  {
   "cell_type": "code",
   "execution_count": null,
   "metadata": {},
   "outputs": [],
   "source": [
    "# Loading the files\n",
    "df = data\n",
    "# # Renaming interesting columns\n",
    "df = df.rename(index=str, columns={0: 'Year', 1:'jday', 2: 'Month',3: 'Day',4: \"Hour\", 5: 'Min',6:'dt', 7:'Zenith_deg',\n",
    "                                   8: 'Global_Wm2',10:'uw_solar', 12: 'Direct_Wm2',14:'Diffuse_Wm2',16:'dw_ir',18:'dw_casetemp',\n",
    "                                   20:'dw_dometemp',22:'uw_ir',24:'uw_casetemp',26:'uw_dometemp',28:'uvb',30:'par',32:'netsolar',\n",
    "                                   34:'netir',36:'totalnet',38:'Temp_C',40:'rh',42:'windspd',44:'winddir',46:'pressure'}) \n",
    "# #Working with only interesting data\n",
    "df = df[['Year', 'Month', 'Day', 'Hour', 'Min', 'rh', 'Direct_Wm2', 'Diffuse_Wm2', 'Global_Wm2', 'Temp_C', 'pressure']]\n",
    "# #Next steps set the data frame index as type datetime\n",
    "df['date'] = df.Year.map(str)+'-'+df.Month.map(str)+'-'+df['Day'].map(str)+' '+df['Hour'].map(str)+':'+ df['Min'].map(str)\n",
    "index = pd.DatetimeIndex(df.date)\n",
    "df = df[['Direct_Wm2', 'Diffuse_Wm2', 'Global_Wm2', 'Temp_C', 'rh', 'pressure']]\n",
    "df = df.set_index(index)"
   ]
  },
  {
   "cell_type": "markdown",
   "metadata": {},
   "source": [
    "##### 4.1. Data Quality Assessment"
   ]
  },
  {
   "cell_type": "code",
   "execution_count": null,
   "metadata": {},
   "outputs": [],
   "source": [
    "## Removing negative and absurd values from the data set, if any\n",
    "#Negative values\n",
    "df.Global_Wm2[df.Global_Wm2 <= 0] = 0\n",
    "df.Temp_C[df.Temp_C <= -40] = 0\n",
    "df.Direct_Wm2[df.Direct_Wm2 <= 0] = 0\n",
    "df.Diffuse_Wm2[df.Diffuse_Wm2 <= 0] = 0\n",
    "df.rh[df.rh <= 0] = 30\n",
    "\n",
    "#Absurd values\n",
    "df.Global_Wm2[df.Global_Wm2 > 1500 ]= np.nan\n",
    "df.Direct_Wm2[df.Direct_Wm2 > 1500] = np.nan\n",
    "df.Diffuse_Wm2[df.Diffuse_Wm2 > 1500 ]= np.nan\n",
    "df.Temp_C[df.Temp_C > 40 ]= np.nan\n",
    "df.rh[df.rh > 100 ]= np.nan\n",
    "\n",
    "df = df.dropna()\n",
    "#Quick statistics\n",
    "df.describe()"
   ]
  },
  {
   "cell_type": "markdown",
   "metadata": {},
   "source": [
    "##### 4.2. IF USING BINDER LOAD THE DATA HERE!"
   ]
  },
  {
   "cell_type": "code",
   "execution_count": 7,
   "metadata": {},
   "outputs": [
    {
     "name": "stdin",
     "output_type": "stream",
     "text": [
      "Do you want to save the raw data file? (Y/N):  y\n"
     ]
    }
   ],
   "source": [
    "# - if desired\n",
    "loaded = input(\"Do you want to save the raw data file? (Y/N): \")\n",
    "\n",
    "if loaded == 'Y' or loaded == 'y':\n",
    "    df = pd.read_csv('../Data/NOAA/output_2015_to_2019_ready.csv', sep=',', parse_dates=True, index_col=0)\n",
    "else:\n",
    "    print(\"No action taken. Proceed to the next cell.\")"
   ]
  },
  {
   "cell_type": "markdown",
   "metadata": {},
   "source": [
    "### 5. Solar irradiance data analysis\n",
    "\n",
    "Here we examine the behavior of the solar irradiance data for the selected period (2015-2019). \n",
    "\n",
    "\n",
    "HEADS UP!<p>\n",
    "<b>Solar irradiance </b> is the instantaneous flux of energy in <b><i>W/m$^{2}$</i></b>\n",
    "\n",
    "<b>Solar irradiation </b> is the summation of the instantaneous flux of solar energy (irradiance) over a period of time, in <b><i>J/m$^{2}$</i></b> or in <b><i>kWh/m$^{2}$</i></b>"
   ]
  },
  {
   "cell_type": "code",
   "execution_count": 8,
   "metadata": {},
   "outputs": [],
   "source": [
    "#From irradiance to energy (times 60 the energy received from the Sun during that minute) - We will change the headers later\n",
    "df_mi = df[['Direct_Wm2', 'Diffuse_Wm2', 'Global_Wm2']]*60*10 # J/m2\n",
    "df_mw = df[['Temp_C', 'rh', 'pressure']]"
   ]
  },
  {
   "cell_type": "code",
   "execution_count": 9,
   "metadata": {},
   "outputs": [],
   "source": [
    "#Resampling the data - Summing the energy data, averaging the weather data - and concatenanting the files\n",
    "df1 = df_mi.resample('D').sum()\n",
    "df1 = df1/3.6e6  # to convert from J/m2 to kWh/m2\n",
    "df2 = df_mw.resample('D').mean()\n",
    "\n",
    "df_mon = pd.concat([df1, df2], axis=1) # Concatenating\n",
    "ind = pd.DatetimeIndex(df_mon.index) #adjusting the index\n",
    "df_mon = df_mon.set_index(ind)\n",
    "\n",
    "df_month = df1.groupby(by=[df1.index.month]).mean() #average values\n",
    "df_month_e = df1.groupby(pd.Grouper(freq='M')).std() #dispersion"
   ]
  },
  {
   "cell_type": "code",
   "execution_count": 10,
   "metadata": {},
   "outputs": [
    {
     "data": {
      "image/png": "[encoded data removed]",
      "text/plain": [
       "<Figure size 1200x500 with 1 Axes>"
      ]
     },
     "metadata": {
      "needs_background": "light"
     },
     "output_type": "display_data"
    }
   ],
   "source": [
    "#Create a bar plot to better visualize previous results\n",
    "N = 12 #months\n",
    "labels = ['Jan', 'Feb','Mar', 'Apr','May', 'Jun','Jul', 'Aug','Sep', 'Oct','Nov', 'Dec']\n",
    "\n",
    "#Preparing the plot\n",
    "fig, ax = plt.subplots()\n",
    "ind = np.arange(N)    # the x locations for the groups\n",
    "width = 0.6       # the width of the bars\n",
    "\n",
    "#Plotting the bars\n",
    "ax.bar(ind, df_month.Global_Wm2, width, yerr=df_month_e.Global_Wm2.std(), capsize=10, align='center', alpha=0.8)\n",
    "ax.bar(ind, df_month.Direct_Wm2, width, alpha=0.5)\n",
    "ax.bar(ind, df_month.Diffuse_Wm2, width, alpha=0.3)\n",
    "\n",
    "\n",
    "#Finishing...\n",
    "ax.set_ylabel('Energy ' r'(kWh/m$^2$/day)')\n",
    "ax.set_xticks(ind)\n",
    "ax.set_xticklabels(labels)\n",
    "\n",
    "plt.legend(['Global', 'Direct','Diffuse'])\n",
    "\n",
    "#Saving\n",
    "#plt.savefig('Results/scatter_good2.jpg')\n",
    "plt.show()"
   ]
  },
  {
   "cell_type": "code",
   "execution_count": 11,
   "metadata": {},
   "outputs": [
    {
     "name": "stdin",
     "output_type": "stream",
     "text": [
      "Solar Irradiance components charts -  type: 1 for GHI, 2 for DNI, 3 for DHI. To skip press any other key:  1\n"
     ]
    },
    {
     "data": {
      "image/png": "[encoded data removed]",
      "text/plain": [
       "<Figure size 1200x500 with 2 Axes>"
      ]
     },
     "metadata": {
      "needs_background": "light"
     },
     "output_type": "display_data"
    }
   ],
   "source": [
    "#Histograms and cummulative distributions - if desired\n",
    "from statsmodels.distributions.empirical_distribution import ECDF\n",
    "comp = input(\"Solar Irradiance components charts -  type: 1 for GHI, 2 for DNI, 3 for DHI. To skip press any other key: \")\n",
    "\n",
    "if comp == '1' or comp == '2' or comp == '3':\n",
    "    if comp == '1':\n",
    "        key = 'Global_Wm2';leg = 'GHI'\n",
    "    if comp == '2':\n",
    "        key = 'Direct_Wm2';leg = 'DNI'\n",
    "    if comp == '3':\n",
    "        key = 'Diffuse_Wm2'; leg = 'DHI'        \n",
    "\n",
    "\n",
    "    ecdf = ECDF(df[key])\n",
    "    fig, ax1 = plt.subplots()\n",
    "\n",
    "    color = '#377eb8'\n",
    "    ax1.set_xlabel('Solar Irradiance (W/m$^2$)')\n",
    "    ax1.set_ylabel('Frequency', color=color)\n",
    "    ax1.set_ylim(0,150000)\n",
    "    ax1.hist(df[key], bins=60)\n",
    "    ax1.legend([leg], loc='center right')\n",
    "\n",
    "    ax2 = ax1.twinx()  # instantiate a second axes that shares the same x-axis\n",
    "    color = '#ff7f00'\n",
    "    ax2.set_ylabel('Cumulative', color=color)  # we already handled the x-label with ax1\n",
    "    ax2.plot(ecdf.x, ecdf.y, color=color, linewidth=4)\n",
    "else:\n",
    "    print('You could have seen an amazing graph. You missed your chance!')"
   ]
  },
  {
   "cell_type": "markdown",
   "metadata": {},
   "source": [
    "### 6. Solar PV Generation\n",
    "\n",
    "<b>Using the PVLib Python package: </b><p>\n",
    "\n",
    "<i>\"...pvlib python is a community supported tool that provides a set of functions and classes for simulating the performance of photovoltaic energy systems. pvlib python was originally ported from the PVLIB MATLAB toolbox developed at Sandia National Laboratories and it implements many of the models and methods developed at the Labs. pvlib python is a community supported tool that provides a set of functions and classes for simulating the performance of photovoltaic energy systems. pvlib python was originally ported from the PVLIB MATLAB toolbox developed at Sandia National Laboratories and it implements many of the models and methods developed at the Labs.\"</i><p>\n",
    "    \n",
    "For more information visit:    \n",
    "https://pvlib-python.readthedocs.io/en/v0.8.0/index.html"
   ]
  },
  {
   "cell_type": "markdown",
   "metadata": {},
   "source": [
    "#### 6.1. Preparing the Data"
   ]
  },
  {
   "cell_type": "code",
   "execution_count": 12,
   "metadata": {},
   "outputs": [],
   "source": [
    "###### Loading PVLib packages \n",
    "import pvlib.pvsystem \n",
    "\n",
    "import pvlib.solarposition\n",
    "\n",
    "from pvlib.pvsystem import PVSystem\n",
    "\n",
    "from pvlib.location import Location\n",
    "\n",
    "from pvlib.modelchain import ModelChain, basic_chain\n",
    "\n",
    "from pvlib.temperature import TEMPERATURE_MODEL_PARAMETERS"
   ]
  },
  {
   "cell_type": "code",
   "execution_count": 13,
   "metadata": {},
   "outputs": [],
   "source": [
    "# Resampling the original data set to hourly values.\n",
    "df = df.resample('H').mean()\n",
    "#Calculating solar azimuth and zenith angles - This is just to test the accuracy of the PVLib solar position algorithm\n",
    "lat = 40.72 # State College NOAA Surfrad Station latitude\n",
    "long = -77.93 # State College NOAA Surfrad Station longitude\n",
    "alt=376\n",
    "new2 = pvlib.solarposition.get_solarposition(df.index, latitude=lat, longitude=long, altitude=alt , pressure=df.pressure, temperature=df.Temp_C)\n",
    "df = pd.concat([df, new2[['azimuth','zenith']]], axis=1)"
   ]
  },
  {
   "cell_type": "code",
   "execution_count": 16,
   "metadata": {},
   "outputs": [
    {
     "name": "stdin",
     "output_type": "stream",
     "text": [
      "Do you want to work with daytime values only? (Y/N):  n\n"
     ]
    },
    {
     "name": "stdout",
     "output_type": "stream",
     "text": [
      "Working with nighttime + daytime values.\n"
     ]
    }
   ],
   "source": [
    "# Removing nighttime values from the df - if desired\n",
    "\n",
    "day = input(\"Do you want to work with daytime values only? (Y/N): \")\n",
    "\n",
    "if day == 'Y' or day == 'y':\n",
    "    df.Zenith_deg[df.Zenith_deg > 85] = np.nan\n",
    "    df = df.dropna()\n",
    "    df.describe()\n",
    "    print(\"Working with daytime values only.\")\n",
    "else:\n",
    "    print(\"Working with nighttime + daytime values.\")"
   ]
  },
  {
   "cell_type": "code",
   "execution_count": 17,
   "metadata": {},
   "outputs": [
    {
     "name": "stdin",
     "output_type": "stream",
     "text": [
      "Do you want to save the processed data file? (Y/N):  n\n"
     ]
    },
    {
     "name": "stdout",
     "output_type": "stream",
     "text": [
      "No action taken. Proceed to the next cell.\n"
     ]
    }
   ],
   "source": [
    "#Saving the hourly data set - if desired\n",
    "saved = input(\"Do you want to save the processed data file? (Y/N): \")\n",
    "\n",
    "if saved == 'Y' or saved == 'y':\n",
    "    df.to_csv('../Data/NOAA/output_'+years[0]+'_to_'+years[-1]+'_hourly.csv')\n",
    "else:\n",
    "    print(\"No action taken. Proceed to the next cell.\")"
   ]
  },
  {
   "cell_type": "markdown",
   "metadata": {},
   "source": [
    "#### 6.2. PV Generation Model"
   ]
  },
  {
   "cell_type": "code",
   "execution_count": 18,
   "metadata": {},
   "outputs": [
    {
     "name": "stdin",
     "output_type": "stream",
     "text": [
      "Enter the number of the PV modules of the system example: 26):  26\n",
      "Enter the number of the inverters of the system (example: 1):  1\n",
      "Enter the site latitude and longitude in decimal degrees (example: 40.72,-77.84):  40.72,-77.84\n",
      "Enter the site altitude in METERS (example: 376.0):  376.0\n",
      "Enter the [tilt, azimuth] angles of the PV system in degrees (example: 30, 180 ):  30, 180\n"
     ]
    }
   ],
   "source": [
    "###### PV system specs ######\n",
    "\n",
    "#Number of modules\n",
    "N_mod = input(\"Enter the number of the PV modules of the system example: 26): \")\n",
    "N_mod = int(N_mod)\n",
    "#Number of inverters\n",
    "N_inv = input(\"Enter the number of the inverters of the system (example: 1): \")\n",
    "N_inv = int(N_inv)\n",
    "\n",
    "#Site Characteristics\n",
    "lat,long = input(\"Enter the site latitude and longitude in decimal degrees (example: 40.72,-77.84): \"  ).split(\",\")\n",
    "lat = float(lat)\n",
    "long= float(long)\n",
    "alt = input(\"Enter the site altitude in METERS (example: 376.0): \" )\n",
    "alt = float(alt)\n",
    "surface_tilt, surface_azimuth = input(\"Enter the [tilt, azimuth] angles of the PV system in degrees (example: 30, 180 ): \"  ).split(\",\")\n",
    "surface_tilt = float(surface_tilt)\n",
    "surface_azimuth = float(surface_azimuth)"
   ]
  },
  {
   "cell_type": "code",
   "execution_count": 19,
   "metadata": {},
   "outputs": [],
   "source": [
    "## load some module and inverter specifications - NEEDS some refinement\n",
    "# CEC modules list\n",
    "cec_modules = pvlib.pvsystem.retrieve_sam('CECMod')\n",
    "# Selecting a module manufacturer and type\n",
    "cec_module = cec_modules['SunPower_SPR_E20_327'] \n",
    "\n",
    "# CEC inverters list\n",
    "cec_inverters = pvlib.pvsystem.retrieve_sam('cecinverter')\n",
    "# Selecting an inverter manufacturer and type\n",
    "#Examples: #SMA_America__SB3800TL_US_22__208V_ / SunPower__SPR_E20_327_C_AC__208V_ / SMA_America__SB7700TL_US_22__240V_\n",
    "cec_inverter = cec_inverters['SMA_America__SB7700TL_US_22__240V_']"
   ]
  },
  {
   "cell_type": "code",
   "execution_count": 20,
   "metadata": {},
   "outputs": [
    {
     "name": "stderr",
     "output_type": "stream",
     "text": [
      "C:\\Users\\PauloHenrique\\Anaconda3\\lib\\site-packages\\pvlib\\pvsystem.py:222: pvlibDeprecationWarning: Arbitrary PVSystem kwargs are deprecated and will be removed in v0.9\n",
      "  'removed in v0.9', pvlibDeprecationWarning\n"
     ]
    },
    {
     "name": "stdout",
     "output_type": "stream",
     "text": [
      "ModelChain: \n",
      "  name: None\n",
      "  orientation_strategy: None\n",
      "  clearsky_model: ineichen\n",
      "  transposition_model: haydavies\n",
      "  solar_position_method: nrel_numpy\n",
      "  airmass_model: kastenyoung1989\n",
      "  dc_model: cec\n",
      "  ac_model: snlinverter\n",
      "  aoi_model: physical_aoi_loss\n",
      "  spectral_model: no_spectral_loss\n",
      "  temperature_model: sapm_temp\n",
      "  losses_model: no_extra_losses\n"
     ]
    }
   ],
   "source": [
    "# Using PVLib Model Chain To calculate the AC Power. For more information visit: https://pvlib-python.readthedocs.io/en/v0.8.0/modelchain.html\n",
    "\n",
    "location = Location(latitude=lat, longitude=long)\n",
    "\n",
    "temperature_model_parameters = TEMPERATURE_MODEL_PARAMETERS['sapm']['open_rack_glass_glass']\n",
    "\n",
    "system = PVSystem(surface_tilt=surface_tilt, surface_azimuth=surface_azimuth,\n",
    "                  module_parameters=cec_module,\n",
    "                  inverter_parameters=cec_inverter,\n",
    "                  temperature_model_parameters=temperature_model_parameters, modules_per_string=N_mod/N_inv, \n",
    "                  strings_per_inverter=N_inv, altitude=alt)# Ex. 26 modules in 2 inverters:  modules_per_string=13, strings_per_inverter=2\n",
    "\n",
    "\n",
    "mc = ModelChain(system, location, aoi_model=\"physical\", spectral_model=\"no_loss\")\n",
    "\n",
    "weather = df[['Direct_Wm2', 'Global_Wm2', 'Diffuse_Wm2', 'Temp_C']]\n",
    "weather = weather.rename(index=str, columns={'Direct_Wm2':'dni', 'Global_Wm2':'ghi', 'Diffuse_Wm2':'dhi', 'Temp_C':'temp_air'})\n",
    "index = pd.DatetimeIndex(weather.index)\n",
    "weather = weather.set_index(index)\n",
    "\n",
    "print(mc)"
   ]
  },
  {
   "cell_type": "code",
   "execution_count": 21,
   "metadata": {},
   "outputs": [],
   "source": [
    "# Running the model\n",
    "mc.run_model( weather=weather);"
   ]
  },
  {
   "cell_type": "markdown",
   "metadata": {},
   "source": [
    "#### 6.3. Visualizing the results"
   ]
  },
  {
   "cell_type": "code",
   "execution_count": 22,
   "metadata": {},
   "outputs": [],
   "source": [
    "# Saving the modeled AC Power and converting from Wh to kWh\n",
    "mc_ac = pd.DataFrame(list(mc.ac), columns={'AC_Power'}, index=df.index)\n",
    "mc_ac.AC_Power[mc_ac.AC_Power < 0] = 0 #setting negative values to 0 \n",
    "mc_ac = mc_ac/1000 # in kWh"
   ]
  },
  {
   "cell_type": "markdown",
   "metadata": {},
   "source": [
    "##### 6.3.1. Monthly analysis"
   ]
  },
  {
   "cell_type": "code",
   "execution_count": 23,
   "metadata": {},
   "outputs": [
    {
     "data": {
      "image/png": "[encoded data removed]",
      "text/plain": [
       "<Figure size 1200x500 with 1 Axes>"
      ]
     },
     "metadata": {
      "needs_background": "light"
     },
     "output_type": "display_data"
    }
   ],
   "source": [
    "mc_acM = mc_ac.resample('M').sum()\n",
    "\n",
    "# Let's viusalize the statistics\n",
    "x = np.linspace(1,13,1)\n",
    "fig, ax = plt.subplots()\n",
    "\n",
    "mc_acM.groupby(mc_acM.index.month).mean().plot.bar(rot=0, ax=ax, color='#377eb8', alpha = 0.7, yerr=mc_acM[['AC_Power']].groupby(mc_acM.index.month).std())\n",
    "\n",
    "ax.set_ylabel('Energy (kWh)')\n",
    "ax.set_xlabel(' ')\n",
    "ax.set_xticklabels(['Jan','Feb', 'Mar', 'Apr', 'May', 'Jun', 'Jul','Aug', 'Sep', 'Oct', 'Nov', 'Dec'] )\n",
    "ax.legend([\"AC Power\"], loc='best')\n",
    "#plt.savefig('../Results/MeanProdDif.pdf')\n",
    "plt.show(block=True)"
   ]
  },
  {
   "cell_type": "code",
   "execution_count": 24,
   "metadata": {},
   "outputs": [
    {
     "data": {
      "text/html": [
       "<div>\n",
       "<style scoped>\n",
       "    .dataframe tbody tr th:only-of-type {\n",
       "        vertical-align: middle;\n",
       "    }\n",
       "\n",
       "    .dataframe tbody tr th {\n",
       "        vertical-align: top;\n",
       "    }\n",
       "\n",
       "    .dataframe thead th {\n",
       "        text-align: right;\n",
       "    }\n",
       "</style>\n",
       "<table border=\"1\" class=\"dataframe\">\n",
       "  <thead>\n",
       "    <tr style=\"text-align: right;\">\n",
       "      <th></th>\n",
       "      <th>AC_Power</th>\n",
       "    </tr>\n",
       "  </thead>\n",
       "  <tbody>\n",
       "    <tr>\n",
       "      <th>count</th>\n",
       "      <td>60.000000</td>\n",
       "    </tr>\n",
       "    <tr>\n",
       "      <th>mean</th>\n",
       "      <td>953.141191</td>\n",
       "    </tr>\n",
       "    <tr>\n",
       "      <th>std</th>\n",
       "      <td>292.659831</td>\n",
       "    </tr>\n",
       "    <tr>\n",
       "      <th>min</th>\n",
       "      <td>311.818092</td>\n",
       "    </tr>\n",
       "    <tr>\n",
       "      <th>25%</th>\n",
       "      <td>744.596515</td>\n",
       "    </tr>\n",
       "    <tr>\n",
       "      <th>50%</th>\n",
       "      <td>1026.792167</td>\n",
       "    </tr>\n",
       "    <tr>\n",
       "      <th>75%</th>\n",
       "      <td>1171.062586</td>\n",
       "    </tr>\n",
       "    <tr>\n",
       "      <th>max</th>\n",
       "      <td>1358.611794</td>\n",
       "    </tr>\n",
       "  </tbody>\n",
       "</table>\n",
       "</div>"
      ],
      "text/plain": [
       "          AC_Power\n",
       "count    60.000000\n",
       "mean    953.141191\n",
       "std     292.659831\n",
       "min     311.818092\n",
       "25%     744.596515\n",
       "50%    1026.792167\n",
       "75%    1171.062586\n",
       "max    1358.611794"
      ]
     },
     "execution_count": 24,
     "metadata": {},
     "output_type": "execute_result"
    }
   ],
   "source": [
    "# Main Statistics\n",
    "mc_acM.describe()"
   ]
  },
  {
   "cell_type": "code",
   "execution_count": 25,
   "metadata": {},
   "outputs": [
    {
     "data": {
      "text/plain": [
       "<matplotlib.legend.Legend at 0x19016a4f08>"
      ]
     },
     "execution_count": 25,
     "metadata": {},
     "output_type": "execute_result"
    },
    {
     "data": {
      "image/png": "[encoded data removed]",
      "text/plain": [
       "<Figure size 1200x500 with 1 Axes>"
      ]
     },
     "metadata": {
      "needs_background": "light"
     },
     "output_type": "display_data"
    }
   ],
   "source": [
    "# Checking the probabilities of generation dropping below a certain value\n",
    "from statsmodels.distributions.empirical_distribution import ECDF\n",
    "ecdf = ECDF(mc_acM.AC_Power)\n",
    "\n",
    "fig, ax = plt.subplots()\n",
    "\n",
    "ax.plot(ecdf.x, ecdf.y, linewidth = 5.0, color='#377eb8', alpha=0.8)\n",
    "\n",
    "ax.set_ylabel('Probability')\n",
    "ax.set_xlabel('Energy (kWh)')\n",
    "ax.grid()\n",
    "ax.legend([\"CDF - AC Power\"], loc='best')"
   ]
  },
  {
   "cell_type": "code",
   "execution_count": 26,
   "metadata": {},
   "outputs": [
    {
     "name": "stdout",
     "output_type": "stream",
     "text": [
      "There is a 10% probability of having less than 595.13 kWh generated on a given month.\n",
      "There is a 50% probability of having less than 1033.37 kWh generated on a given month.\n",
      "There is a 90% probability of having less than 1325.54 kWh generated on a given month.\n"
     ]
    }
   ],
   "source": [
    "# Aiding the readability of the graph\n",
    "sample = mc_acM['AC_Power']\n",
    "n = len(sample)\n",
    "sort = sorted(sample)\n",
    "print('There is a 10% probability of having less than', \"{0:.2f}\".format(sort[int(n * 0.1)])+' kWh generated on a given month.')\n",
    "print('There is a 50% probability of having less than', \"{0:.2f}\".format(sort[int(n * 0.5)])+' kWh generated on a given month.')\n",
    "print('There is a 90% probability of having less than', \"{0:.2f}\".format(sort[int(n * 0.9)])+' kWh generated on a given month.')"
   ]
  },
  {
   "cell_type": "markdown",
   "metadata": {},
   "source": [
    "##### 6.3.1. Yearly analysis"
   ]
  },
  {
   "cell_type": "code",
   "execution_count": 27,
   "metadata": {},
   "outputs": [
    {
     "data": {
      "text/html": [
       "<div>\n",
       "<style scoped>\n",
       "    .dataframe tbody tr th:only-of-type {\n",
       "        vertical-align: middle;\n",
       "    }\n",
       "\n",
       "    .dataframe tbody tr th {\n",
       "        vertical-align: top;\n",
       "    }\n",
       "\n",
       "    .dataframe thead th {\n",
       "        text-align: right;\n",
       "    }\n",
       "</style>\n",
       "<table border=\"1\" class=\"dataframe\">\n",
       "  <thead>\n",
       "    <tr style=\"text-align: right;\">\n",
       "      <th></th>\n",
       "      <th>AC_Power</th>\n",
       "    </tr>\n",
       "    <tr>\n",
       "      <th>date</th>\n",
       "      <th></th>\n",
       "    </tr>\n",
       "  </thead>\n",
       "  <tbody>\n",
       "    <tr>\n",
       "      <th>2015-12-31</th>\n",
       "      <td>11732.889823</td>\n",
       "    </tr>\n",
       "    <tr>\n",
       "      <th>2016-12-31</th>\n",
       "      <td>11932.900854</td>\n",
       "    </tr>\n",
       "    <tr>\n",
       "      <th>2017-12-31</th>\n",
       "      <td>11491.928605</td>\n",
       "    </tr>\n",
       "    <tr>\n",
       "      <th>2018-12-31</th>\n",
       "      <td>10565.318942</td>\n",
       "    </tr>\n",
       "    <tr>\n",
       "      <th>2019-12-31</th>\n",
       "      <td>11465.433262</td>\n",
       "    </tr>\n",
       "  </tbody>\n",
       "</table>\n",
       "</div>"
      ],
      "text/plain": [
       "                AC_Power\n",
       "date                    \n",
       "2015-12-31  11732.889823\n",
       "2016-12-31  11932.900854\n",
       "2017-12-31  11491.928605\n",
       "2018-12-31  10565.318942\n",
       "2019-12-31  11465.433262"
      ]
     },
     "execution_count": 27,
     "metadata": {},
     "output_type": "execute_result"
    }
   ],
   "source": [
    "# Expected PV generation through the years - in kWh\n",
    "power_year = mc_ac.resample('Y').sum() # also could have used the command: mc_ac.groupby(mc_ac.index.year).sum()\n",
    "power_year"
   ]
  },
  {
   "cell_type": "code",
   "execution_count": 28,
   "metadata": {},
   "outputs": [
    {
     "data": {
      "text/plain": [
       "<matplotlib.legend.Legend at 0x19036aa348>"
      ]
     },
     "execution_count": 28,
     "metadata": {},
     "output_type": "execute_result"
    },
    {
     "data": {
      "image/png": "[encoded data removed]",
      "text/plain": [
       "<Figure size 1200x500 with 1 Axes>"
      ]
     },
     "metadata": {
      "needs_background": "light"
     },
     "output_type": "display_data"
    }
   ],
   "source": [
    "# Visualizing the previous dataframe\n",
    "fig, ax = plt.subplots()\n",
    "\n",
    "power_year.AC_Power.plot.bar( rot=0, color='#31a354', alpha = 0.8)\n",
    "\n",
    "ax.set_ylabel('Energy (kWh)')\n",
    "ax.set_xlabel(' ')\n",
    "ax.set_ylim(0,max(power_year.AC_Power)*1.3)\n",
    "ax.set_xticklabels(years)\n",
    "\n",
    "ax.legend([\"AC Power - Yearly\"], loc='best')"
   ]
  },
  {
   "cell_type": "markdown",
   "metadata": {},
   "source": [
    "### 7. Comparing models: Measured data X TMY data"
   ]
  },
  {
   "cell_type": "code",
   "execution_count": null,
   "metadata": {},
   "outputs": [],
   "source": [
    "# Loading the TMY file - Got lazy and used the TMY file processed by NREL System Advisor Model (SAM)\n",
    "tmy_weather = pd.read_csv('../Data/TMY/StateCollege_NSRDB_TMY.csv')\n",
    "# # #Working with only interesting data\n",
    "tmy_weather  = tmy_weather [['dni', 'ghi', 'dhi', 'wind_speed', 'temp_air']]\n",
    "index = pd.date_range(start='1/1/2015 00:00', end='12/31/2015 23:00', freq='H')\n",
    "tmy_weather = tmy_weather.set_index(index)\n",
    "tmy_weather.describe()"
   ]
  },
  {
   "cell_type": "code",
   "execution_count": null,
   "metadata": {},
   "outputs": [],
   "source": [
    "mc2 = ModelChain(system, location, aoi_model=\"physical\", spectral_model=\"no_loss\")\n",
    "mc2.run_model( weather=tmy_weather);"
   ]
  },
  {
   "cell_type": "code",
   "execution_count": null,
   "metadata": {},
   "outputs": [],
   "source": [
    "# Saving the modeled AC Power and converting from Wh to kWh\n",
    "mc_ac_tmy = pd.DataFrame(list(mc2.ac), columns={'AC_Power'}, index=tmy_weather.index)\n",
    "mc_ac_tmy.AC_Power[mc_ac_tmy.AC_Power < 0] = 0 #setting negative values to 0 \n",
    "mc_ac_tmy = (mc_ac_tmy)/1000 # in kWh"
   ]
  },
  {
   "cell_type": "code",
   "execution_count": null,
   "metadata": {},
   "outputs": [],
   "source": [
    "mct = mc_ac_tmy.resample('M').sum()\n",
    "\n",
    "# Let's viusalize the statistics\n",
    "x = np.linspace(1,13,1)\n",
    "\n",
    "fig, (ax, ax2) = plt.subplots(ncols=2, sharey=True)\n",
    "\n",
    "mct.groupby(mct.index.month).mean().plot.bar(rot=90, ax=ax, label='_nolegend_', color='#ff7f00', alpha = 0.7)\n",
    "\n",
    "mc_acM.groupby(mc_acM.index.month).mean().plot.bar(rot=90, ax=ax2, color='#377eb8', alpha=0.7,\n",
    "                                                   yerr=mc_acM[['AC_Power']].groupby(mc_acM.index.month).std(), label='_nolegend_')\n",
    "\n",
    "ax.set_ylabel('AC Energy (kWh)')\n",
    "ax.set_xlabel(' ')\n",
    "ax.set_xticklabels(['Jan','Feb', 'Mar', 'Apr', 'May', 'Jun', 'Jul','Aug', 'Sep', 'Oct', 'Nov', 'Dec'] )\n",
    "ax.legend([\"TMY\"], loc='best')\n",
    "\n",
    "ax2.set_xlabel(' ')\n",
    "ax2.set_xticklabels(['Jan','Feb', 'Mar', 'Apr', 'May', 'Jun', 'Jul','Aug', 'Sep', 'Oct', 'Nov', 'Dec'] )\n",
    "ax2.legend([\"NOAA\"], loc='best')\n",
    "#plt.savefig('../Results/MeanProdDif.pdf')\n",
    "plt.show(block=True)"
   ]
  },
  {
   "cell_type": "markdown",
   "metadata": {},
   "source": [
    "### 8. Not Used - Saving for future reference"
   ]
  },
  {
   "cell_type": "code",
   "execution_count": null,
   "metadata": {},
   "outputs": [],
   "source": [
    "# load some module and inverter specifications - NEEDS some refinement\n",
    "# cec_modules = pvlib.pvsystem.retrieve_sam('SandiaMod')\n",
    "\n",
    "# cec_inverters = pvlib.pvsystem.retrieve_sam('cecinverter')\n",
    "\n",
    "# cec_module = {'STC':327.106,'PTC':302.9,'A_c':1.63,'Length':1.559,'Width':1.046,'N_s':96,'I_sc_ref':6.46,'V_oc_ref':64.9,'I_mp_ref':5.98,\n",
    "# 'V_mp_ref':54.7,'alpha_sc':0.002196,'beta_oc':-0.175879,'T_NOCT':46.2,'a_ref':2.464016,'I_L_ref':6.470243,'I_o_ref':2.26523E-11,'R_s':0.417205,\n",
    "# 'R_sh_ref':263.136993,'Adjust':11.129273,'gamma_r':-0.36,'Cells_in_Series':96,'Parallel_Strings':1,'Isco':6.46,'Voco':64.9,'Impo':5.98,\n",
    "# 'Vmpo':54.7,'Aisc':0.002196,'Aimp':-0.00038,'C0':1.009,'C1':-0.009,'Bvoco':-0.177,'Mbvoc':0,'Bvmpo':-0.186,'Mbvmp':0,'N':1.131,'C2':0.3802,\n",
    "# 'C3':-3.716,'A0':0.9597,'A1':0.03217,'A2':-0.00366,'A3':0.00006,'A4':0.0000054,'B0':1,'B1':-0.006987,'B2':0.000862,'B3':-0.000034,'B4':0.000000535,\n",
    "# 'B5':-2.99E-09,'DTC':3,'FD':1,'C4':0.988,'C5':0.012,'IXO':6.08,'IXXO':4.25,'C6':1.093,'C7':-0.093}\n",
    "\n",
    "# cec_inverter = cec_inverters['SMA_America__SB3800TL_US_22__208V_']#SMA_America__SB3800TL_US_22__208V_ ? SunPower__SPR_E20_327_C_AC__208V_"
   ]
  },
  {
   "cell_type": "code",
   "execution_count": null,
   "metadata": {},
   "outputs": [],
   "source": [
    "# Not used - ignore\n",
    "# yes = pvlib.modelchain.basic_chain(times=df.index,latitude=lat, longitude=long, aoi_model=\"no_loss\",irradiance=weather, \n",
    "#                   module_parameters=cec_module, inverter_parameters=cec_inverter, modules_per_string=13, \n",
    "#                   strings_per_inverter=2,weather=None, surface_tilt=surface_tilt, surface_azimuth=surface_azimuth, \n",
    "#                   altitude=alt, pressure=df.pressure)"
   ]
  },
  {
   "cell_type": "code",
   "execution_count": null,
   "metadata": {},
   "outputs": [],
   "source": []
  }
 ],
 "metadata": {
  "kernelspec": {
   "display_name": "Python 3",
   "language": "python",
   "name": "python3"
  },
  "language_info": {
   "codemirror_mode": {
    "name": "ipython",
    "version": 3
   },
   "file_extension": ".py",
   "mimetype": "text/x-python",
   "name": "python",
   "nbconvert_exporter": "python",
   "pygments_lexer": "ipython3",
   "version": "3.7.9"
  }
 },
 "nbformat": 4,
 "nbformat_minor": 4
}
